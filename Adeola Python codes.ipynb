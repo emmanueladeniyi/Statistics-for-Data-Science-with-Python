{
 "cells": [
  {
   "cell_type": "code",
   "execution_count": 1,
   "metadata": {},
   "outputs": [],
   "source": [
    "import numpy as np\n",
    "import pandas as pd\n",
    "import seaborn as sns\n",
    "import matplotlib.pyplot as plt\n",
    "import scipy.stats"
   ]
  },
  {
   "cell_type": "code",
   "execution_count": 2,
   "metadata": {
    "scrolled": true
   },
   "outputs": [
    {
     "name": "stdout",
     "output_type": "stream",
     "text": [
      "    S/N  Sex  Age  Class  Department treatment  Pre  Post\n",
      "0     1    2    2      2           1              5    14\n",
      "1     2    2    3      2           3         1    7    18\n",
      "2     3    2    2      2           3         1    4    16\n",
      "3     4    1    2      2           3         1    8    17\n",
      "4     5    1    2      2           1         1    5    15\n",
      "5     6    2    2      2           2         1   12    20\n",
      "6     7    1    3      2           3         1    5    15\n",
      "7     8    2    2      2           2         1   13    18\n",
      "8     9    1    2      2           1         1    9    15\n",
      "9    10    1    3      2           1         1    9    16\n",
      "10   11    2    2      1           2         1    7    17\n",
      "11   12    2    2      2           3         1   10    13\n",
      "12   13    2    2      2           2         1    4    16\n",
      "13   14    1    2      2           2         1    7    14\n",
      "14   15    1    2      1           1         1    9    17\n",
      "15   16    2    1      3           1         1    4    17\n",
      "16   17    2    1      1           1         1    4    17\n",
      "17   18    2    2      3           2         1   10    20\n",
      "18   19    2    2      2           3         1    7    20\n",
      "19   20    1    1      1           1         1    7    15\n",
      "20   21    1    2      2           2         1    4    15\n",
      "21   22    2    2      2           1         1    5    14\n",
      "22   23    2    2      2           2         1    5    19\n",
      "23   24    1    3      3           1         1    8    20\n",
      "24   25    1    2      1           1         1    4    18\n",
      "25   26    2    3      3           3         1   10    20\n",
      "26   27    1    2      2           1         1   11    16\n",
      "27   28    2    2      2           1         1    4    19\n",
      "28   29    1    2      3           2         1    6    18\n",
      "29   30    2    1      1           1         2    9    17\n",
      "30   31    2    3      3           1         2    5    20\n",
      "31   32    2    1      1           1         2    9    18\n",
      "32   33    1    3      2           2         2    9    15\n",
      "33   34    2    2      3           1         2    6    19\n",
      "34   35    1    3      2           2         2   12    19\n",
      "35   36    2    2      2           3         2   10    18\n",
      "36   37    2    2      1           1         2    6    20\n",
      "37   38    1    2      1           1         2    8    16\n",
      "38   39    2    2      3           3         2    9    17\n",
      "39   40    1    2      3           3         2    9    14\n",
      "40   41    2    2      1           2         2    8    20\n",
      "41   42    1    1      3           1         2   10    20\n",
      "42   43    1    2      2           1         2   10    16\n",
      "43   44    2    3      1           3         2    8    19\n",
      "44   45    2    2      2           2         2   11    18\n",
      "45   46    2    2      3           2         2    6    16\n",
      "46   47    1    2      3           3         2   10    16\n",
      "47   48    2    2      3           2         2    7    17\n",
      "48   49    2    2      2           3         2    7    18\n",
      "49   50    2    2      3           1         2    6    20\n",
      "50   51    1    1      2           2         2   10    19\n",
      "51   52    1    2      3           2         2    6    15\n",
      "52   53    2    2      2           1         2   10    19\n",
      "53   54    2    2      2           1         2    5    15\n",
      "54   55    1    3      1           2         2    7    19\n",
      "55   56    2    3      3           2         2    7    17\n",
      "56   57    2    2      2           1         2    5    18\n",
      "57   58    1    2      1           3         2   10    20\n",
      "58   59    1    2      3           1         2    6    16\n",
      "59   60    1    2      3           2         2   14    20\n"
     ]
    }
   ],
   "source": [
    "df = pd.read_csv(\"Adeola_Analysis.csv\")\n",
    "print(df)"
   ]
  },
  {
   "cell_type": "code",
   "execution_count": 22,
   "metadata": {},
   "outputs": [
    {
     "data": {
      "text/html": [
       "<div>\n",
       "<style scoped>\n",
       "    .dataframe tbody tr th:only-of-type {\n",
       "        vertical-align: middle;\n",
       "    }\n",
       "\n",
       "    .dataframe tbody tr th {\n",
       "        vertical-align: top;\n",
       "    }\n",
       "\n",
       "    .dataframe thead th {\n",
       "        text-align: right;\n",
       "    }\n",
       "</style>\n",
       "<table border=\"1\" class=\"dataframe\">\n",
       "  <thead>\n",
       "    <tr style=\"text-align: right;\">\n",
       "      <th></th>\n",
       "      <th>S/N</th>\n",
       "      <th>Sex</th>\n",
       "      <th>Age</th>\n",
       "      <th>Class</th>\n",
       "      <th>Department</th>\n",
       "      <th>treatment</th>\n",
       "      <th>Pre</th>\n",
       "      <th>Post</th>\n",
       "    </tr>\n",
       "  </thead>\n",
       "  <tbody>\n",
       "    <tr>\n",
       "      <th>0</th>\n",
       "      <td>1</td>\n",
       "      <td>2</td>\n",
       "      <td>2</td>\n",
       "      <td>2</td>\n",
       "      <td>1</td>\n",
       "      <td></td>\n",
       "      <td>5</td>\n",
       "      <td>14</td>\n",
       "    </tr>\n",
       "    <tr>\n",
       "      <th>1</th>\n",
       "      <td>2</td>\n",
       "      <td>2</td>\n",
       "      <td>3</td>\n",
       "      <td>2</td>\n",
       "      <td>3</td>\n",
       "      <td>1</td>\n",
       "      <td>7</td>\n",
       "      <td>18</td>\n",
       "    </tr>\n",
       "    <tr>\n",
       "      <th>2</th>\n",
       "      <td>3</td>\n",
       "      <td>2</td>\n",
       "      <td>2</td>\n",
       "      <td>2</td>\n",
       "      <td>3</td>\n",
       "      <td>1</td>\n",
       "      <td>4</td>\n",
       "      <td>16</td>\n",
       "    </tr>\n",
       "    <tr>\n",
       "      <th>3</th>\n",
       "      <td>4</td>\n",
       "      <td>1</td>\n",
       "      <td>2</td>\n",
       "      <td>2</td>\n",
       "      <td>3</td>\n",
       "      <td>1</td>\n",
       "      <td>8</td>\n",
       "      <td>17</td>\n",
       "    </tr>\n",
       "    <tr>\n",
       "      <th>4</th>\n",
       "      <td>5</td>\n",
       "      <td>1</td>\n",
       "      <td>2</td>\n",
       "      <td>2</td>\n",
       "      <td>1</td>\n",
       "      <td>1</td>\n",
       "      <td>5</td>\n",
       "      <td>15</td>\n",
       "    </tr>\n",
       "  </tbody>\n",
       "</table>\n",
       "</div>"
      ],
      "text/plain": [
       "   S/N  Sex  Age  Class  Department treatment  Pre  Post\n",
       "0    1    2    2      2           1              5    14\n",
       "1    2    2    3      2           3         1    7    18\n",
       "2    3    2    2      2           3         1    4    16\n",
       "3    4    1    2      2           3         1    8    17\n",
       "4    5    1    2      2           1         1    5    15"
      ]
     },
     "execution_count": 22,
     "metadata": {},
     "output_type": "execute_result"
    }
   ],
   "source": [
    "df.head()"
   ]
  },
  {
   "cell_type": "code",
   "execution_count": 23,
   "metadata": {
    "scrolled": true
   },
   "outputs": [
    {
     "data": {
      "text/plain": [
       "S/N            int64\n",
       "Sex            int64\n",
       "Age            int64\n",
       "Class          int64\n",
       "Department     int64\n",
       "treatment     object\n",
       "Pre            int64\n",
       "Post           int64\n",
       "dtype: object"
      ]
     },
     "execution_count": 23,
     "metadata": {},
     "output_type": "execute_result"
    }
   ],
   "source": [
    "df.dtypes"
   ]
  },
  {
   "cell_type": "code",
   "execution_count": 24,
   "metadata": {
    "scrolled": false
   },
   "outputs": [
    {
     "data": {
      "text/html": [
       "<div>\n",
       "<style scoped>\n",
       "    .dataframe tbody tr th:only-of-type {\n",
       "        vertical-align: middle;\n",
       "    }\n",
       "\n",
       "    .dataframe tbody tr th {\n",
       "        vertical-align: top;\n",
       "    }\n",
       "\n",
       "    .dataframe thead th {\n",
       "        text-align: right;\n",
       "    }\n",
       "</style>\n",
       "<table border=\"1\" class=\"dataframe\">\n",
       "  <thead>\n",
       "    <tr style=\"text-align: right;\">\n",
       "      <th></th>\n",
       "      <th>S/N</th>\n",
       "      <th>Sex</th>\n",
       "      <th>Age</th>\n",
       "      <th>Class</th>\n",
       "      <th>Department</th>\n",
       "      <th>Pre</th>\n",
       "      <th>Post</th>\n",
       "    </tr>\n",
       "  </thead>\n",
       "  <tbody>\n",
       "    <tr>\n",
       "      <th>count</th>\n",
       "      <td>60.000000</td>\n",
       "      <td>60.000000</td>\n",
       "      <td>60.000000</td>\n",
       "      <td>60.000000</td>\n",
       "      <td>60.000000</td>\n",
       "      <td>60.000000</td>\n",
       "      <td>60.000000</td>\n",
       "    </tr>\n",
       "    <tr>\n",
       "      <th>mean</th>\n",
       "      <td>30.500000</td>\n",
       "      <td>1.566667</td>\n",
       "      <td>2.066667</td>\n",
       "      <td>2.083333</td>\n",
       "      <td>1.800000</td>\n",
       "      <td>7.633333</td>\n",
       "      <td>17.333333</td>\n",
       "    </tr>\n",
       "    <tr>\n",
       "      <th>std</th>\n",
       "      <td>17.464249</td>\n",
       "      <td>0.499717</td>\n",
       "      <td>0.548238</td>\n",
       "      <td>0.719973</td>\n",
       "      <td>0.798303</td>\n",
       "      <td>2.510768</td>\n",
       "      <td>1.997173</td>\n",
       "    </tr>\n",
       "    <tr>\n",
       "      <th>min</th>\n",
       "      <td>1.000000</td>\n",
       "      <td>1.000000</td>\n",
       "      <td>1.000000</td>\n",
       "      <td>1.000000</td>\n",
       "      <td>1.000000</td>\n",
       "      <td>4.000000</td>\n",
       "      <td>13.000000</td>\n",
       "    </tr>\n",
       "    <tr>\n",
       "      <th>25%</th>\n",
       "      <td>15.750000</td>\n",
       "      <td>1.000000</td>\n",
       "      <td>2.000000</td>\n",
       "      <td>2.000000</td>\n",
       "      <td>1.000000</td>\n",
       "      <td>5.750000</td>\n",
       "      <td>16.000000</td>\n",
       "    </tr>\n",
       "    <tr>\n",
       "      <th>50%</th>\n",
       "      <td>30.500000</td>\n",
       "      <td>2.000000</td>\n",
       "      <td>2.000000</td>\n",
       "      <td>2.000000</td>\n",
       "      <td>2.000000</td>\n",
       "      <td>7.000000</td>\n",
       "      <td>17.000000</td>\n",
       "    </tr>\n",
       "    <tr>\n",
       "      <th>75%</th>\n",
       "      <td>45.250000</td>\n",
       "      <td>2.000000</td>\n",
       "      <td>2.000000</td>\n",
       "      <td>3.000000</td>\n",
       "      <td>2.000000</td>\n",
       "      <td>10.000000</td>\n",
       "      <td>19.000000</td>\n",
       "    </tr>\n",
       "    <tr>\n",
       "      <th>max</th>\n",
       "      <td>60.000000</td>\n",
       "      <td>2.000000</td>\n",
       "      <td>3.000000</td>\n",
       "      <td>3.000000</td>\n",
       "      <td>3.000000</td>\n",
       "      <td>14.000000</td>\n",
       "      <td>20.000000</td>\n",
       "    </tr>\n",
       "  </tbody>\n",
       "</table>\n",
       "</div>"
      ],
      "text/plain": [
       "             S/N        Sex        Age      Class  Department        Pre  \\\n",
       "count  60.000000  60.000000  60.000000  60.000000   60.000000  60.000000   \n",
       "mean   30.500000   1.566667   2.066667   2.083333    1.800000   7.633333   \n",
       "std    17.464249   0.499717   0.548238   0.719973    0.798303   2.510768   \n",
       "min     1.000000   1.000000   1.000000   1.000000    1.000000   4.000000   \n",
       "25%    15.750000   1.000000   2.000000   2.000000    1.000000   5.750000   \n",
       "50%    30.500000   2.000000   2.000000   2.000000    2.000000   7.000000   \n",
       "75%    45.250000   2.000000   2.000000   3.000000    2.000000  10.000000   \n",
       "max    60.000000   2.000000   3.000000   3.000000    3.000000  14.000000   \n",
       "\n",
       "            Post  \n",
       "count  60.000000  \n",
       "mean   17.333333  \n",
       "std     1.997173  \n",
       "min    13.000000  \n",
       "25%    16.000000  \n",
       "50%    17.000000  \n",
       "75%    19.000000  \n",
       "max    20.000000  "
      ]
     },
     "execution_count": 24,
     "metadata": {},
     "output_type": "execute_result"
    }
   ],
   "source": [
    "df.describe()"
   ]
  },
  {
   "cell_type": "code",
   "execution_count": 30,
   "metadata": {},
   "outputs": [],
   "source": [
    "from scipy import stats"
   ]
  },
  {
   "cell_type": "code",
   "execution_count": 36,
   "metadata": {},
   "outputs": [
    {
     "name": "stdout",
     "output_type": "stream",
     "text": [
      "The Pearson Correlation Coefficient is 0.0426858903666381  with a P-value of P = 0.7460624161256323\n"
     ]
    }
   ],
   "source": [
    "pearson_coef, p_value = stats.pearsonr(df['Pre'], df['Age'])\n",
    "print(\"The Pearson Correlation Coefficient is\", pearson_coef, \" with a P-value of P =\", p_value)"
   ]
  },
  {
   "cell_type": "code",
   "execution_count": 38,
   "metadata": {},
   "outputs": [
    {
     "name": "stdout",
     "output_type": "stream",
     "text": [
      "The Pearson Correlation Coefficient is 0.04531810979097514  with a P-value of P = 0.7309779207646308\n"
     ]
    }
   ],
   "source": [
    "pearson_coef, p_value = stats.pearsonr(df['Pre'], df['Class'])\n",
    "print(\"The Pearson Correlation Coefficient is\", pearson_coef, \" with a P-value of P =\", p_value)"
   ]
  },
  {
   "cell_type": "code",
   "execution_count": 39,
   "metadata": {},
   "outputs": [
    {
     "name": "stdout",
     "output_type": "stream",
     "text": [
      "The Pearson Correlation Coefficient is 0.2249340293223436  with a P-value of P = 0.08400642218914005\n"
     ]
    }
   ],
   "source": [
    "pearson_coef, p_value = stats.pearsonr(df['Pre'], df['Department'])\n",
    "print(\"The Pearson Correlation Coefficient is\", pearson_coef, \" with a P-value of P =\", p_value)"
   ]
  },
  {
   "cell_type": "code",
   "execution_count": 41,
   "metadata": {},
   "outputs": [
    {
     "name": "stdout",
     "output_type": "stream",
     "text": [
      "The Pearson Correlation Coefficient is 0.027503796943750675  with a P-value of P = 0.8347594771385369\n"
     ]
    }
   ],
   "source": [
    "pearson_coef, p_value = stats.pearsonr(df['Post'], df['Class'])\n",
    "print(\"The Pearson Correlation Coefficient is\", pearson_coef, \" with a P-value of P =\", p_value)"
   ]
  },
  {
   "cell_type": "code",
   "execution_count": 42,
   "metadata": {},
   "outputs": [
    {
     "name": "stdout",
     "output_type": "stream",
     "text": [
      "The Pearson Correlation Coefficient is 0.027503796943750675  with a P-value of P = 0.8347594771385369\n"
     ]
    }
   ],
   "source": [
    "pearson_coef, p_value = stats.pearsonr(df['Post'], df['Class'])\n",
    "print(\"The Pearson Correlation Coefficient is\", pearson_coef, \" with a P-value of P =\", p_value)"
   ]
  },
  {
   "cell_type": "code",
   "execution_count": 43,
   "metadata": {},
   "outputs": [
    {
     "name": "stdout",
     "output_type": "stream",
     "text": [
      "The Pearson Correlation Coefficient is 0.02126152199447509  with a P-value of P = 0.8719006196734089\n"
     ]
    }
   ],
   "source": [
    "pearson_coef, p_value = stats.pearsonr(df['Post'], df['Department'])\n",
    "print(\"The Pearson Correlation Coefficient is\", pearson_coef, \" with a P-value of P =\", p_value)"
   ]
  },
  {
   "cell_type": "code",
   "execution_count": 52,
   "metadata": {
    "scrolled": true
   },
   "outputs": [
    {
     "data": {
      "text/html": [
       "<div>\n",
       "<style scoped>\n",
       "    .dataframe tbody tr th:only-of-type {\n",
       "        vertical-align: middle;\n",
       "    }\n",
       "\n",
       "    .dataframe tbody tr th {\n",
       "        vertical-align: top;\n",
       "    }\n",
       "\n",
       "    .dataframe thead th {\n",
       "        text-align: right;\n",
       "    }\n",
       "</style>\n",
       "<table border=\"1\" class=\"dataframe\">\n",
       "  <thead>\n",
       "    <tr style=\"text-align: right;\">\n",
       "      <th></th>\n",
       "      <th>Pre</th>\n",
       "      <th>Age</th>\n",
       "    </tr>\n",
       "  </thead>\n",
       "  <tbody>\n",
       "    <tr>\n",
       "      <th>0</th>\n",
       "      <td>5</td>\n",
       "      <td>2</td>\n",
       "    </tr>\n",
       "    <tr>\n",
       "      <th>1</th>\n",
       "      <td>7</td>\n",
       "      <td>3</td>\n",
       "    </tr>\n",
       "    <tr>\n",
       "      <th>2</th>\n",
       "      <td>4</td>\n",
       "      <td>2</td>\n",
       "    </tr>\n",
       "    <tr>\n",
       "      <th>3</th>\n",
       "      <td>8</td>\n",
       "      <td>2</td>\n",
       "    </tr>\n",
       "    <tr>\n",
       "      <th>4</th>\n",
       "      <td>5</td>\n",
       "      <td>2</td>\n",
       "    </tr>\n",
       "    <tr>\n",
       "      <th>5</th>\n",
       "      <td>12</td>\n",
       "      <td>2</td>\n",
       "    </tr>\n",
       "    <tr>\n",
       "      <th>6</th>\n",
       "      <td>5</td>\n",
       "      <td>3</td>\n",
       "    </tr>\n",
       "    <tr>\n",
       "      <th>7</th>\n",
       "      <td>13</td>\n",
       "      <td>2</td>\n",
       "    </tr>\n",
       "    <tr>\n",
       "      <th>8</th>\n",
       "      <td>9</td>\n",
       "      <td>2</td>\n",
       "    </tr>\n",
       "    <tr>\n",
       "      <th>9</th>\n",
       "      <td>9</td>\n",
       "      <td>3</td>\n",
       "    </tr>\n",
       "    <tr>\n",
       "      <th>10</th>\n",
       "      <td>7</td>\n",
       "      <td>2</td>\n",
       "    </tr>\n",
       "    <tr>\n",
       "      <th>11</th>\n",
       "      <td>10</td>\n",
       "      <td>2</td>\n",
       "    </tr>\n",
       "    <tr>\n",
       "      <th>12</th>\n",
       "      <td>4</td>\n",
       "      <td>2</td>\n",
       "    </tr>\n",
       "    <tr>\n",
       "      <th>13</th>\n",
       "      <td>7</td>\n",
       "      <td>2</td>\n",
       "    </tr>\n",
       "    <tr>\n",
       "      <th>14</th>\n",
       "      <td>9</td>\n",
       "      <td>2</td>\n",
       "    </tr>\n",
       "    <tr>\n",
       "      <th>15</th>\n",
       "      <td>4</td>\n",
       "      <td>1</td>\n",
       "    </tr>\n",
       "    <tr>\n",
       "      <th>16</th>\n",
       "      <td>4</td>\n",
       "      <td>1</td>\n",
       "    </tr>\n",
       "    <tr>\n",
       "      <th>17</th>\n",
       "      <td>10</td>\n",
       "      <td>2</td>\n",
       "    </tr>\n",
       "    <tr>\n",
       "      <th>18</th>\n",
       "      <td>7</td>\n",
       "      <td>2</td>\n",
       "    </tr>\n",
       "    <tr>\n",
       "      <th>19</th>\n",
       "      <td>7</td>\n",
       "      <td>1</td>\n",
       "    </tr>\n",
       "    <tr>\n",
       "      <th>20</th>\n",
       "      <td>4</td>\n",
       "      <td>2</td>\n",
       "    </tr>\n",
       "    <tr>\n",
       "      <th>21</th>\n",
       "      <td>5</td>\n",
       "      <td>2</td>\n",
       "    </tr>\n",
       "    <tr>\n",
       "      <th>22</th>\n",
       "      <td>5</td>\n",
       "      <td>2</td>\n",
       "    </tr>\n",
       "    <tr>\n",
       "      <th>23</th>\n",
       "      <td>8</td>\n",
       "      <td>3</td>\n",
       "    </tr>\n",
       "    <tr>\n",
       "      <th>25</th>\n",
       "      <td>10</td>\n",
       "      <td>3</td>\n",
       "    </tr>\n",
       "    <tr>\n",
       "      <th>26</th>\n",
       "      <td>11</td>\n",
       "      <td>2</td>\n",
       "    </tr>\n",
       "    <tr>\n",
       "      <th>28</th>\n",
       "      <td>6</td>\n",
       "      <td>2</td>\n",
       "    </tr>\n",
       "    <tr>\n",
       "      <th>29</th>\n",
       "      <td>9</td>\n",
       "      <td>1</td>\n",
       "    </tr>\n",
       "    <tr>\n",
       "      <th>31</th>\n",
       "      <td>9</td>\n",
       "      <td>1</td>\n",
       "    </tr>\n",
       "    <tr>\n",
       "      <th>33</th>\n",
       "      <td>6</td>\n",
       "      <td>2</td>\n",
       "    </tr>\n",
       "    <tr>\n",
       "      <th>34</th>\n",
       "      <td>12</td>\n",
       "      <td>3</td>\n",
       "    </tr>\n",
       "    <tr>\n",
       "      <th>35</th>\n",
       "      <td>10</td>\n",
       "      <td>2</td>\n",
       "    </tr>\n",
       "    <tr>\n",
       "      <th>36</th>\n",
       "      <td>6</td>\n",
       "      <td>2</td>\n",
       "    </tr>\n",
       "    <tr>\n",
       "      <th>37</th>\n",
       "      <td>8</td>\n",
       "      <td>2</td>\n",
       "    </tr>\n",
       "    <tr>\n",
       "      <th>40</th>\n",
       "      <td>8</td>\n",
       "      <td>2</td>\n",
       "    </tr>\n",
       "    <tr>\n",
       "      <th>41</th>\n",
       "      <td>10</td>\n",
       "      <td>1</td>\n",
       "    </tr>\n",
       "    <tr>\n",
       "      <th>43</th>\n",
       "      <td>8</td>\n",
       "      <td>3</td>\n",
       "    </tr>\n",
       "    <tr>\n",
       "      <th>44</th>\n",
       "      <td>11</td>\n",
       "      <td>2</td>\n",
       "    </tr>\n",
       "    <tr>\n",
       "      <th>45</th>\n",
       "      <td>6</td>\n",
       "      <td>2</td>\n",
       "    </tr>\n",
       "    <tr>\n",
       "      <th>49</th>\n",
       "      <td>6</td>\n",
       "      <td>2</td>\n",
       "    </tr>\n",
       "    <tr>\n",
       "      <th>59</th>\n",
       "      <td>14</td>\n",
       "      <td>2</td>\n",
       "    </tr>\n",
       "  </tbody>\n",
       "</table>\n",
       "</div>"
      ],
      "text/plain": [
       "    Pre  Age\n",
       "0     5    2\n",
       "1     7    3\n",
       "2     4    2\n",
       "3     8    2\n",
       "4     5    2\n",
       "5    12    2\n",
       "6     5    3\n",
       "7    13    2\n",
       "8     9    2\n",
       "9     9    3\n",
       "10    7    2\n",
       "11   10    2\n",
       "12    4    2\n",
       "13    7    2\n",
       "14    9    2\n",
       "15    4    1\n",
       "16    4    1\n",
       "17   10    2\n",
       "18    7    2\n",
       "19    7    1\n",
       "20    4    2\n",
       "21    5    2\n",
       "22    5    2\n",
       "23    8    3\n",
       "25   10    3\n",
       "26   11    2\n",
       "28    6    2\n",
       "29    9    1\n",
       "31    9    1\n",
       "33    6    2\n",
       "34   12    3\n",
       "35   10    2\n",
       "36    6    2\n",
       "37    8    2\n",
       "40    8    2\n",
       "41   10    1\n",
       "43    8    3\n",
       "44   11    2\n",
       "45    6    2\n",
       "49    6    2\n",
       "59   14    2"
      ]
     },
     "execution_count": 52,
     "metadata": {},
     "output_type": "execute_result"
    }
   ],
   "source": [
    "grouped_test2=df[['Pre', 'Age']].groupby(['Pre'])\n",
    "grouped_test2.head()"
   ]
  },
  {
   "cell_type": "code",
   "execution_count": 59,
   "metadata": {},
   "outputs": [
    {
     "name": "stdout",
     "output_type": "stream",
     "text": [
      "Collecting researchpy\n",
      "  Downloading researchpy-0.3.2-py3-none-any.whl (15 kB)\n",
      "Requirement already satisfied: numpy in c:\\users\\emmanuel adeniyi\\anaconda3\\lib\\site-packages (from researchpy) (1.19.2)\n",
      "Requirement already satisfied: statsmodels in c:\\users\\emmanuel adeniyi\\anaconda3\\lib\\site-packages (from researchpy) (0.12.0)\n",
      "Requirement already satisfied: scipy in c:\\users\\emmanuel adeniyi\\anaconda3\\lib\\site-packages (from researchpy) (1.5.2)\n",
      "Requirement already satisfied: patsy in c:\\users\\emmanuel adeniyi\\anaconda3\\lib\\site-packages (from researchpy) (0.5.1)\n",
      "Requirement already satisfied: pandas in c:\\users\\emmanuel adeniyi\\anaconda3\\lib\\site-packages (from researchpy) (1.1.3)\n",
      "Requirement already satisfied: six in c:\\users\\emmanuel adeniyi\\anaconda3\\lib\\site-packages (from patsy->researchpy) (1.15.0)\n",
      "Requirement already satisfied: pytz>=2017.2 in c:\\users\\emmanuel adeniyi\\anaconda3\\lib\\site-packages (from pandas->researchpy) (2020.1)\n",
      "Requirement already satisfied: python-dateutil>=2.7.3 in c:\\users\\emmanuel adeniyi\\anaconda3\\lib\\site-packages (from pandas->researchpy) (2.8.1)\n",
      "Installing collected packages: researchpy\n",
      "Successfully installed researchpy-0.3.2\n"
     ]
    }
   ],
   "source": [
    "!pip install researchpy"
   ]
  },
  {
   "cell_type": "code",
   "execution_count": 60,
   "metadata": {},
   "outputs": [],
   "source": [
    "import researchpy as rp"
   ]
  },
  {
   "cell_type": "code",
   "execution_count": 66,
   "metadata": {},
   "outputs": [],
   "source": [
    "lower_than_14 = df[df['Age'] == '1']\n",
    "lower_than_18 = df[df['Age'] == '2']\n",
    "eighteen_older = df[df['Age'] == '3']"
   ]
  },
  {
   "cell_type": "code",
   "execution_count": 77,
   "metadata": {},
   "outputs": [
    {
     "data": {
      "text/plain": [
       "Ttest_indResult(statistic=array([nan, nan, nan, nan, nan, nan, nan]), pvalue=array([nan, nan, nan, nan, nan, nan, nan]))"
      ]
     },
     "execution_count": 77,
     "metadata": {},
     "output_type": "execute_result"
    }
   ],
   "source": [
    "scipy.stats.ttest_ind(df[df['Pre'] == '1'],\n",
    "                   df[df['Pre'] == '2'], equal_var = True)"
   ]
  },
  {
   "cell_type": "code",
   "execution_count": 75,
   "metadata": {},
   "outputs": [
    {
     "name": "stdout",
     "output_type": "stream",
     "text": [
      "F_Statistic: [nan nan nan nan nan nan nan], P-Value: [nan nan nan nan nan nan nan]\n"
     ]
    },
    {
     "name": "stderr",
     "output_type": "stream",
     "text": [
      "C:\\Users\\Emmanuel Adeniyi\\anaconda3\\lib\\site-packages\\scipy\\stats\\stats.py:3612: F_onewayBadInputSizesWarning: at least one input has length 0\n",
      "  warnings.warn(F_onewayBadInputSizesWarning('at least one input '\n"
     ]
    }
   ],
   "source": [
    "f_statistic, p_value = scipy.stats.f_oneway(lower_than_14, lower_than_18, eighteen_older)\n",
    "print(\"F_Statistic: {0}, P-Value: {1}\".format(f_statistic,p_value))"
   ]
  }
 ],
 "metadata": {
  "kernelspec": {
   "display_name": "Python 3",
   "language": "python",
   "name": "python3"
  },
  "language_info": {
   "codemirror_mode": {
    "name": "ipython",
    "version": 3
   },
   "file_extension": ".py",
   "mimetype": "text/x-python",
   "name": "python",
   "nbconvert_exporter": "python",
   "pygments_lexer": "ipython3",
   "version": "3.8.5"
  }
 },
 "nbformat": 4,
 "nbformat_minor": 4
}
